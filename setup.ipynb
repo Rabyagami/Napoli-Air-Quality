{
 "cells": [
  {
   "cell_type": "code",
   "execution_count": 2,
   "id": "c115aaad",
   "metadata": {},
   "outputs": [],
   "source": [
    "import os #It provides operating system operations.\n",
    "\n",
    "\n",
    "# Where to save the data, results and images\n",
    "PATH = \"../\"\n",
    "\n",
    "DATA_PATH = os.path.join(PATH, \"Data\")\n",
    "os.makedirs(DATA_PATH, exist_ok=True)\n",
    "\n",
    "RESULTS_PATH = os.path.join(PATH, \"Results\")\n",
    "os.makedirs(RESULTS_PATH, exist_ok=True)\n",
    "\n",
    "IMAGES_PATH = os.path.join(PATH, \"Images\")\n",
    "os.makedirs(IMAGES_PATH, exist_ok=True)\n",
    "\n",
    "def save_fig(fig_id, tight_layout=True, fig_extension=\"png\", resolution=300):\n",
    "    path = os.path.join(IMAGES_PATH, fig_id + \".\" + fig_extension)\n",
    "    print(\"Saving figure\", fig_id)\n",
    "    \n",
    "    if tight_layout:\n",
    "        plt.tight_layout()\n",
    "        \n",
    "    plt.savefig(path, format=fig_extension, dpi=resolution)"
   ]
  },
  {
   "cell_type": "code",
   "execution_count": null,
   "id": "d2c381fe",
   "metadata": {},
   "outputs": [],
   "source": []
  }
 ],
 "metadata": {
  "kernelspec": {
   "display_name": "Python 3 (ipykernel)",
   "language": "python",
   "name": "python3"
  },
  "language_info": {
   "codemirror_mode": {
    "name": "ipython",
    "version": 3
   },
   "file_extension": ".py",
   "mimetype": "text/x-python",
   "name": "python",
   "nbconvert_exporter": "python",
   "pygments_lexer": "ipython3",
   "version": "3.9.12"
  }
 },
 "nbformat": 4,
 "nbformat_minor": 5
}
